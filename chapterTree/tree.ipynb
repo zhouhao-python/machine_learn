{
 "cells": [
  {
   "cell_type": "markdown",
   "metadata": {},
   "source": [
    "### Decision Tree"
   ]
  },
  {
   "cell_type": "code",
   "execution_count": 1,
   "metadata": {},
   "outputs": [],
   "source": [
    "from collections import  defaultdict\n",
    "import numpy as np"
   ]
  },
  {
   "cell_type": "code",
   "execution_count": 2,
   "metadata": {},
   "outputs": [],
   "source": [
    "def createDataset():\n",
    "    dataet = [[1,1,'yes'],\n",
    "              [1,1,'yes'],\n",
    "              [1,0,'no'],\n",
    "              [0,1,'no'],\n",
    "              [0,1,'no'],]\n",
    "    labels = ['no surfacing','flippers']\n",
    "    return dataet,labels"
   ]
  },
  {
   "cell_type": "markdown",
   "metadata": {},
   "source": [
    "#### 计算交叉熵，交叉熵越大，表示信息又无序(越没规律)\n",
    "* 怎么计算交叉熵?  \n",
    "$\\sum_{i=1}^n\\ p(x_i)*log(p(x_i)) $         ，$p(x_i)$ 表示i类型出现的概率。"
   ]
  },
  {
   "cell_type": "code",
   "execution_count": 36,
   "metadata": {},
   "outputs": [],
   "source": [
    "import math\n",
    "def calentropy(dataset):\n",
    "    labelcount = defaultdict(int)\n",
    "    for data in dataset:\n",
    "        cur = data[-1]\n",
    "        labelcount[cur]+=1\n",
    "    ansentropy = 0\n",
    "    for key in labelcount.keys():\n",
    "        pro = float(labelcount[key])/len(dataset)\n",
    "        ansentropy -= pro*math.log(pro,2)\n",
    "    return ansentropy\n",
    "        "
   ]
  },
  {
   "cell_type": "code",
   "execution_count": 37,
   "metadata": {},
   "outputs": [
    {
     "data": {
      "text/plain": [
       "0.9709505944546686"
      ]
     },
     "execution_count": 37,
     "metadata": {},
     "output_type": "execute_result"
    }
   ],
   "source": [
    "dataset,labels = createDataset()\n",
    "entropy = calentropy(dataset)\n",
    "entropy"
   ]
  },
  {
   "cell_type": "markdown",
   "metadata": {},
   "source": [
    "##### 按照特定的特征划分数据集\n",
    "* 按照特征的维度特征的特征划分数据集"
   ]
  },
  {
   "cell_type": "code",
   "execution_count": 38,
   "metadata": {},
   "outputs": [],
   "source": [
    "def splitDataset(dataset,axis,value):\n",
    "    '''\n",
    "    数据，特征维度，特征\n",
    "    '''\n",
    "    ans = []\n",
    "    for data in dataset:\n",
    "        if data[axis] == value:\n",
    "            temp = data[:axis]\n",
    "            temp.extend(data[axis+1:])\n",
    "            ans.append(temp)\n",
    "    return ans"
   ]
  },
  {
   "cell_type": "code",
   "execution_count": 39,
   "metadata": {},
   "outputs": [],
   "source": [
    "def choosebestfeaturesplit(dataset):\n",
    "    numfeature = len(dataset[0])-1\n",
    "    bestinfogain = 0\n",
    "    bestfeature = -1\n",
    "    bestentropy = calentropy(dataset)\n",
    "    for i in range(numfeature):\n",
    "        temp = [data[i] for data in dataset]\n",
    "        temp = set(temp)\n",
    "        entropy = 0\n",
    "        for value in range(len(temp)):\n",
    "            sdata = splitDataset(dataset,i,value)\n",
    "            pro = len(sdata)/len(dataset)\n",
    "            entropy += pro*math.log(pro,2)\n",
    "        info = bestentropy-entropy\n",
    "        if info>bestinfogain:\n",
    "            bestinfogain = info\n",
    "            bestfeature = i\n",
    "        print(entropy)\n",
    "    return bestfeature"
   ]
  },
  {
   "cell_type": "code",
   "execution_count": 40,
   "metadata": {},
   "outputs": [
    {
     "name": "stdout",
     "output_type": "stream",
     "text": [
      "-0.9709505944546686\n",
      "-0.7219280948873623\n"
     ]
    },
    {
     "data": {
      "text/plain": [
       "0"
      ]
     },
     "execution_count": 40,
     "metadata": {},
     "output_type": "execute_result"
    }
   ],
   "source": [
    "bestfeature = choosebestfeaturesplit(dataset)\n",
    "bestfeature"
   ]
  },
  {
   "cell_type": "code",
   "execution_count": null,
   "metadata": {},
   "outputs": [],
   "source": []
  }
 ],
 "metadata": {
  "kernelspec": {
   "display_name": "Python 3.8.8 ('base')",
   "language": "python",
   "name": "python3"
  },
  "language_info": {
   "codemirror_mode": {
    "name": "ipython",
    "version": 3
   },
   "file_extension": ".py",
   "mimetype": "text/x-python",
   "name": "python",
   "nbconvert_exporter": "python",
   "pygments_lexer": "ipython3",
   "version": "3.8.8"
  },
  "orig_nbformat": 4,
  "vscode": {
   "interpreter": {
    "hash": "6d57d65036592f7ebfe1723decbb9981c1ebcbde219747cffd87dc366196f257"
   }
  }
 },
 "nbformat": 4,
 "nbformat_minor": 2
}
