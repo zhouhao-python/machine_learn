{
 "cells": [
  {
   "cell_type": "markdown",
   "metadata": {},
   "source": [
    "### Decision Tree"
   ]
  },
  {
   "cell_type": "code",
   "execution_count": 3,
   "metadata": {},
   "outputs": [],
   "source": [
    "from collections import  defaultdict\n",
    "import numpy as np"
   ]
  },
  {
   "cell_type": "code",
   "execution_count": 4,
   "metadata": {},
   "outputs": [],
   "source": [
    "def createDataset():\n",
    "    dataet = [[1,1,'yes'],\n",
    "              [1,1,'yes'],\n",
    "              [1,0,'no'],\n",
    "              [0,1,'no'],\n",
    "              [0,1,'no'],]\n",
    "    labels = ['no surfacing','flippers']\n",
    "    return dataet,labels"
   ]
  },
  {
   "cell_type": "markdown",
   "metadata": {},
   "source": [
    "#### 计算交叉熵，交叉熵越大，表示信息又无序(越没规律)\n",
    "* 怎么计算交叉熵?  \n",
    "$\\sum_{i=1}^n\\ p(x_i)*log(p(x_i)) $         ，$p(x_i)$ 表示i类型出现的概率。"
   ]
  },
  {
   "cell_type": "code",
   "execution_count": 5,
   "metadata": {},
   "outputs": [],
   "source": [
    "import math\n",
    "def calentropy(dataset):\n",
    "    labelcount = defaultdict(int)\n",
    "    for data in dataset:\n",
    "        cur = data[-1]\n",
    "        labelcount[cur]+=1\n",
    "    ansentropy = 0\n",
    "    for key in labelcount.keys():\n",
    "        pro = float(labelcount[key])/len(dataset)\n",
    "        ansentropy -= pro*math.log(pro,2)\n",
    "    return ansentropy\n",
    "        "
   ]
  },
  {
   "cell_type": "code",
   "execution_count": 6,
   "metadata": {},
   "outputs": [
    {
     "data": {
      "text/plain": [
       "0.9709505944546686"
      ]
     },
     "execution_count": 6,
     "metadata": {},
     "output_type": "execute_result"
    }
   ],
   "source": [
    "dataset,labels = createDataset()\n",
    "entropy = calentropy(dataset)\n",
    "entropy"
   ]
  },
  {
   "cell_type": "markdown",
   "metadata": {},
   "source": [
    "##### 按照特定的特征划分数据集\n",
    "* 按照特征的维度特征的特征划分数据集"
   ]
  },
  {
   "cell_type": "code",
   "execution_count": 7,
   "metadata": {},
   "outputs": [],
   "source": [
    "def splitDataset(dataset,axis,value):\n",
    "    '''\n",
    "    数据，特征维度，特征\n",
    "    '''\n",
    "    ans = []\n",
    "    for data in dataset:\n",
    "        if data[axis] == value:\n",
    "            temp = data[:axis]\n",
    "            temp.extend(data[axis+1:])\n",
    "            ans.append(temp)\n",
    "    return ans"
   ]
  },
  {
   "cell_type": "code",
   "execution_count": 8,
   "metadata": {},
   "outputs": [],
   "source": [
    "def choosebestfeaturesplit(dataset):\n",
    "    numfeature = len(dataset[0])-1\n",
    "    bestinfogain = 0\n",
    "    bestfeature = -1\n",
    "    bestentropy = calentropy(dataset)\n",
    "    for i in range(numfeature):\n",
    "        temp = [data[i] for data in dataset]\n",
    "        temp = set(temp)\n",
    "        entropy = 0\n",
    "        for value in temp:\n",
    "            sdata = splitDataset(dataset,i,value)\n",
    "            pro = len(sdata)/len(dataset)\n",
    "            entropy += pro*calentropy(sdata)  #这里为什么这么计算  这里是计算信息熵\n",
    "        infogain = bestentropy-entropy            #这里是计算信息增益\n",
    "        if infogain>bestinfogain:\n",
    "            bestinfogain = infogain\n",
    "            bestfeature = i\n",
    "    return bestfeature"
   ]
  },
  {
   "cell_type": "markdown",
   "metadata": {},
   "source": [
    "\n",
    "* 什么是信息熵、经验熵、信息增益？[参考](https://blog.csdn.net/weixin_43157453/article/details/108487190)  \n",
    "1. 信息熵，我们根据'yes'、'no'这个信息计算出的熵就是信息熵H(D).\n",
    "2. 经验熵，计算特征A的经验熵H(D|A) = $\\sum_{i=1}^n\\ \\frac{D_i}{D}*H(D)$\n",
    "3. 信息增益，H(D)-H(D|A) 信息增益越大越好。"
   ]
  },
  {
   "cell_type": "code",
   "execution_count": 10,
   "metadata": {},
   "outputs": [
    {
     "name": "stdout",
     "output_type": "stream",
     "text": [
      "the best feature dim is 0\n"
     ]
    }
   ],
   "source": [
    "bestfeature = choosebestfeaturesplit(dataset)\n",
    "print(\"the best feature dim is %d\"%(bestfeature))"
   ]
  },
  {
   "cell_type": "code",
   "execution_count": null,
   "metadata": {},
   "outputs": [],
   "source": []
  }
 ],
 "metadata": {
  "kernelspec": {
   "display_name": "Python 3.8.5 ('base')",
   "language": "python",
   "name": "python3"
  },
  "language_info": {
   "codemirror_mode": {
    "name": "ipython",
    "version": 3
   },
   "file_extension": ".py",
   "mimetype": "text/x-python",
   "name": "python",
   "nbconvert_exporter": "python",
   "pygments_lexer": "ipython3",
   "version": "3.8.5"
  },
  "orig_nbformat": 4,
  "vscode": {
   "interpreter": {
    "hash": "003a224e25595ae3297ba0163a798e0e9e9ea36a4bb7f34394ad23475cf6a8f3"
   }
  }
 },
 "nbformat": 4,
 "nbformat_minor": 2
}
